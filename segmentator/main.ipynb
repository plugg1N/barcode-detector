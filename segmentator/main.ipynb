{
 "cells": [
  {
   "cell_type": "code",
   "execution_count": 13,
   "metadata": {},
   "outputs": [],
   "source": [
    "import os\n",
    "from PIL import Image, ImageEnhance\n",
    "import random\n",
    "import shutil"
   ]
  },
  {
   "cell_type": "code",
   "execution_count": 14,
   "metadata": {},
   "outputs": [],
   "source": [
    "# Define the paths to the old and new datasets\n",
    "old_dataset_path = \"Dataset_old\"\n",
    "new_dataset_path = \"Dataset_new\""
   ]
  },
  {
   "cell_type": "code",
   "execution_count": 15,
   "metadata": {},
   "outputs": [],
   "source": [
    "# Create the new dataset folder and subfolders\n",
    "os.makedirs(new_dataset_path, exist_ok=True)\n",
    "os.makedirs(os.path.join(new_dataset_path, \"1d\"), exist_ok=True)\n",
    "os.makedirs(os.path.join(new_dataset_path, \"dmtx\"), exist_ok=True)"
   ]
  },
  {
   "cell_type": "code",
   "execution_count": 16,
   "metadata": {},
   "outputs": [],
   "source": [
    "def augment_image(image_path, output_path):\n",
    "    # Open the image\n",
    "    image = Image.open(image_path)\n",
    "    \n",
    "    # Randomize augmentation parameters\n",
    "    brightness_factor = random.uniform(0.4, 4.9)\n",
    "    contrast_factor = random.uniform(0.4, 4.9)\n",
    "    saturation_factor = random.uniform(0.4, 4.9)\n",
    "    \n",
    "    # Perform random image augmentations\n",
    "    enhanced_image = ImageEnhance.Brightness(image).enhance(brightness_factor)\n",
    "    enhanced_image = ImageEnhance.Contrast(enhanced_image).enhance(contrast_factor)\n",
    "    enhanced_image = ImageEnhance.Color(enhanced_image).enhance(saturation_factor)\n",
    "\n",
    "\n",
    "    # Generate the augmented image filename\n",
    "    filename, extension = os.path.splitext(os.path.basename(image_path))\n",
    "    augmented_filename = filename + \"_augmented\" + extension\n",
    "    augmented_output_path = os.path.join(output_path, augmented_filename)\n",
    "    \n",
    "    # Save the augmented image\n",
    "    enhanced_image.save(augmented_output_path)"
   ]
  },
  {
   "cell_type": "code",
   "execution_count": 17,
   "metadata": {},
   "outputs": [],
   "source": [
    "# Function to copy images\n",
    "def copy_images(source_folder, destination_folder):\n",
    "    for filename in os.listdir(source_folder):\n",
    "        source_file = os.path.join(source_folder, filename)\n",
    "        destination_file = os.path.join(destination_folder, filename)\n",
    "        shutil.copy2(source_file, destination_file)"
   ]
  },
  {
   "cell_type": "code",
   "execution_count": 18,
   "metadata": {},
   "outputs": [],
   "source": [
    "# Copy images from the \"1d\" subfolder\n",
    "source_1d_folder = os.path.join(old_dataset_path, \"1d\")\n",
    "destination_1d_folder = os.path.join(new_dataset_path, \"1d\")\n",
    "copy_images(source_1d_folder, destination_1d_folder)\n",
    "\n",
    "# Copy images from the \"dmtx\" subfolder\n",
    "source_dmtx_folder = os.path.join(old_dataset_path, \"dmtx\")\n",
    "destination_dmtx_folder = os.path.join(new_dataset_path, \"dmtx\")\n",
    "copy_images(source_dmtx_folder, destination_dmtx_folder)"
   ]
  },
  {
   "cell_type": "code",
   "execution_count": 19,
   "metadata": {},
   "outputs": [],
   "source": [
    "# Augment images in the \"1d\" subfolder\n",
    "source_1d_folder = os.path.join(old_dataset_path, \"1d\")\n",
    "destination_1d_folder = os.path.join(new_dataset_path, \"1d\")\n",
    "for filename in os.listdir(source_1d_folder):\n",
    "    source_file = os.path.join(source_1d_folder, filename)\n",
    "    augment_image(source_file, destination_1d_folder)\n",
    "\n",
    "# Augment images in the \"dmtx\" subfolder\n",
    "source_dmtx_folder = os.path.join(old_dataset_path, \"dmtx\")\n",
    "destination_dmtx_folder = os.path.join(new_dataset_path, \"dmtx\")\n",
    "for filename in os.listdir(source_dmtx_folder):\n",
    "    source_file = os.path.join(source_dmtx_folder, filename)\n",
    "    augment_image(source_file, destination_dmtx_folder)"
   ]
  },
  {
   "cell_type": "code",
   "execution_count": null,
   "metadata": {},
   "outputs": [],
   "source": []
  },
  {
   "cell_type": "code",
   "execution_count": null,
   "metadata": {},
   "outputs": [],
   "source": []
  }
 ],
 "metadata": {
  "kernelspec": {
   "display_name": "yolov8",
   "language": "python",
   "name": "python3"
  },
  "language_info": {
   "codemirror_mode": {
    "name": "ipython",
    "version": 3
   },
   "file_extension": ".py",
   "mimetype": "text/x-python",
   "name": "python",
   "nbconvert_exporter": "python",
   "pygments_lexer": "ipython3",
   "version": "3.11.3"
  },
  "orig_nbformat": 4
 },
 "nbformat": 4,
 "nbformat_minor": 2
}
